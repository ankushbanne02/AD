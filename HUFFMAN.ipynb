{
 "cells": [
  {
   "cell_type": "code",
   "execution_count": null,
   "id": "1a61ecd5",
   "metadata": {},
   "outputs": [],
   "source": [
    "import heapq\n",
    "\n",
    "class Node:\n",
    "    \n",
    "    def __init__(self,freq,symbol,left=None,right=None):\n",
    "        self.freq=freq\n",
    "        self.symbol=symbol\n",
    "        self.left=left\n",
    "        self.right=right\n",
    "        self.huff=''\n",
    "        \n",
    "    def __lt__(self,nxt):\n",
    "        return self.freq<nxt.freq\n",
    "    \n",
    "    \n",
    "\n",
    "def printNodes(node,val=''):\n",
    "    newval=val+node.huff\n",
    "    \n",
    "    if node.left:\n",
    "        printNodes(node.left,newval)\n",
    "    if node.right:\n",
    "        printNodes(node.right,newval)\n",
    "        \n",
    "    if not node.left and not node.right:\n",
    "        print(node.symbol,\"-->\",newval)\n",
    "        \n",
    "chars=[]\n",
    "fre=[]\n",
    "\n",
    "while True:\n",
    "    char= input(\"Enter the Character (or Enter 'done' to finish)\")\n",
    "    if char=='done':\n",
    "        break\n",
    "    fr=int(input(f\"Enter the Frequency of {char}:\"))\n",
    "    \n",
    "    chars.append(char)\n",
    "    fre.append(fr)\n",
    "    \n",
    "nodes=[]\n",
    "\n",
    "for i in range(len(chars)):\n",
    "    heapq.heappush(nodes,Node(fre[i],chars[i]))\n",
    "    \n",
    "\n",
    "while len(nodes)>1:\n",
    "    left=heapq.heappop(nodes)\n",
    "    right=heapq.heappop(nodes)\n",
    "    \n",
    "    left.huff='0'\n",
    "    right.huff='1'\n",
    "    \n",
    "    new_node=Node(left.freq+right.freq,left.symbol+right.symbol,left,right)\n",
    "    heapq.heappush(nodes,new_node)\n",
    "    \n",
    "printNodes(nodes[0])"
   ]
  },
  {
   "cell_type": "code",
   "execution_count": null,
   "id": "1f6c2f0d",
   "metadata": {},
   "outputs": [],
   "source": []
  }
 ],
 "metadata": {
  "kernelspec": {
   "display_name": "Python 3",
   "language": "python",
   "name": "python3"
  },
  "language_info": {
   "codemirror_mode": {
    "name": "ipython",
    "version": 3
   },
   "file_extension": ".py",
   "mimetype": "text/x-python",
   "name": "python",
   "nbconvert_exporter": "python",
   "pygments_lexer": "ipython3",
   "version": "3.12.0"
  }
 },
 "nbformat": 4,
 "nbformat_minor": 5
}
