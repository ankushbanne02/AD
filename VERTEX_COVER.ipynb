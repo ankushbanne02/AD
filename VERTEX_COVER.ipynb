{
 "cells": [
  {
   "cell_type": "code",
   "execution_count": 17,
   "id": "4338fe06",
   "metadata": {},
   "outputs": [
    {
     "name": "stdout",
     "output_type": "stream",
     "text": [
      "Enter the number of vertices: 3\n",
      "Enter the number of edges: 2\n",
      "Enter each edge in the format u v (0-based indexing):\n",
      "Enter Edge u v: 0 1\n",
      "Enter Edge u v: 1 2\n",
      "Minimum Vertex Cover: [0, 1]\n"
     ]
    }
   ],
   "source": [
    "from collections import defaultdict\n",
    "\n",
    "class Graph:\n",
    "    def __init__(self, vertices):\n",
    "        self.v = vertices\n",
    "        self.graph = defaultdict(list)\n",
    "\n",
    "    def add_edge(self, u, v):\n",
    "        self.graph[u].append(v)\n",
    "        self.graph[v].append(u)\n",
    "\n",
    "    def print_vertex_cover(self):\n",
    "        visited = [False] * self.v\n",
    "        vertex_cover = set()  \n",
    "\n",
    "        for u in range(self.v):\n",
    "            if not visited[u]:  # Process only unvisited vertices\n",
    "                for v in self.graph[u]:  # Iterate over neighbors of u\n",
    "                    if not visited[v]:\n",
    "                        visited[u] = visited[v] = True\n",
    "                        vertex_cover.add(u)\n",
    "                        vertex_cover.add(v)\n",
    "                        break  # Move to the next vertex after covering one edge\n",
    "\n",
    "        print(\"Minimum Vertex Cover:\", sorted(vertex_cover))\n",
    "\n",
    "\n",
    "# Input for the graph\n",
    "vertices = int(input(\"Enter the number of vertices: \"))\n",
    "g = Graph(vertices)\n",
    "\n",
    "edges = int(input(\"Enter the number of edges: \"))\n",
    "print(\"Enter each edge in the format u v (0-based indexing):\")\n",
    "\n",
    "for _ in range(edges):\n",
    "    u, v = map(int, input(\"Enter Edge u v: \").split())\n",
    "    g.add_edge(u, v)\n",
    "\n",
    "# Print the vertex cover\n",
    "g.print_vertex_cover()\n"
   ]
  },
  {
   "cell_type": "code",
   "execution_count": 2,
   "id": "addad074",
   "metadata": {},
   "outputs": [
    {
     "name": "stdout",
     "output_type": "stream",
     "text": [
      "Enter the number of vertices: 3\n",
      "Enter the number of edges: 2\n",
      "Enter each edge in the format u v (0-based indexing):\n",
      "Enter Edge u v: 0 1\n",
      "Enter Edge u v: 1 2\n",
      "Minimum Vertex Cover: [0, 1]\n"
     ]
    }
   ],
   "source": [
    "from collections import defaultdict\n",
    "\n",
    "class Graph:\n",
    "    def __init__(self, vertices):\n",
    "        self.v = vertices\n",
    "        self.graph = defaultdict(list)\n",
    "\n",
    "    def add_edge(self, u, v):\n",
    "        # Avoid adding self-loops\n",
    "        if u != v:\n",
    "            self.graph[u].append(v)\n",
    "            self.graph[v].append(u)\n",
    "\n",
    "    def print_vertex_cover(self):\n",
    "        visited = [False] * self.v\n",
    "        vertex_cover = set()\n",
    "\n",
    "        for u in range(self.v):\n",
    "            if not visited[u]:\n",
    "                for v in self.graph[u]:\n",
    "                    if not visited[v]:\n",
    "                        visited[u] = visited[v] = True\n",
    "                        vertex_cover.add(u)\n",
    "                        vertex_cover.add(v)\n",
    "                        break  # Move to the next vertex after covering one edge\n",
    "\n",
    "        print(\"Minimum Vertex Cover:\", sorted(vertex_cover))\n",
    "\n",
    "\n",
    "vertices = int(input(\"Enter the number of vertices: \"))\n",
    "g = Graph(vertices)\n",
    "\n",
    "edges = int(input(\"Enter the number of edges: \"))\n",
    "max_possible_edges = vertices * (vertices - 1) // 2\n",
    "if edges > max_possible_edges:\n",
    "    print(f\"Too many edges! A graph with {vertices} vertices can have at most {max_possible_edges} edges.\")\n",
    "else:\n",
    "    print(\"Enter each edge in the format u v (0-based indexing):\")\n",
    "\n",
    "    for _ in range(edges):\n",
    "        u, v = map(int, input(\"Enter Edge u v: \").split())\n",
    "        if u < 0 or u >= vertices or v < 0 or v >= vertices:\n",
    "            print(f\"Invalid edge ({u}, {v}). Skipping...\")\n",
    "            continue\n",
    "        g.add_edge(u, v)\n",
    "\n",
    "    # Print the vertex cover\n",
    "    g.print_vertex_cover()\n"
   ]
  },
  {
   "cell_type": "code",
   "execution_count": null,
   "id": "17da2665",
   "metadata": {},
   "outputs": [],
   "source": []
  }
 ],
 "metadata": {
  "kernelspec": {
   "display_name": "Python 3 (ipykernel)",
   "language": "python",
   "name": "python3"
  },
  "language_info": {
   "codemirror_mode": {
    "name": "ipython",
    "version": 3
   },
   "file_extension": ".py",
   "mimetype": "text/x-python",
   "name": "python",
   "nbconvert_exporter": "python",
   "pygments_lexer": "ipython3",
   "version": "3.11.5"
  }
 },
 "nbformat": 4,
 "nbformat_minor": 5
}
