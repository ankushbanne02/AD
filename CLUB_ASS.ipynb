{
 "cells": [
  {
   "cell_type": "code",
   "execution_count": null,
   "id": "31ef375c",
   "metadata": {},
   "outputs": [
    {
     "name": "stdout",
     "output_type": "stream",
     "text": [
      "Enter the number of workers (or jobs): 4\n",
      "Enter the cost matrix (4x4):\n",
      "Enter costs for worker 1 separated by spaces: 9 2 7 8\n",
      "Enter costs for worker 2 separated by spaces: 6 4 3 7\n",
      "Enter costs for worker 3 separated by spaces: 5 8 1 8\n",
      "Enter costs for worker 4 separated by spaces: 7 6 9 4\n",
      "\n",
      "Best job assignment: [1, 0, 2, 3]\n",
      "Minimum cost: 13\n"
     ]
    }
   ],
   "source": [
    "import heapq\n",
    "\n",
    "def calculate_bound(cost_matrix, path, cost, worker):\n",
    "    bound = cost\n",
    "    n = len(cost_matrix)\n",
    "    unassigned_jobs = [j for j in range(len(cost_matrix)) if j not in path]\n",
    "\n",
    "    for w in range(worker + 1, n):\n",
    "        bound += min(cost_matrix[w][j] for j in unassigned_jobs)\n",
    "\n",
    "    return bound\n",
    "\n",
    "def branch_and_bound(cost_matrix):\n",
    "    n = len(cost_matrix)\n",
    "    min_cost = float('inf')\n",
    "    best_path = []\n",
    "    queue = [(0, 0, -1, [])]  \n",
    "\n",
    "    while queue:\n",
    "        bound, cost, worker, path = heapq.heappop(queue)\n",
    "\n",
    "        if bound >= min_cost:\n",
    "            continue\n",
    "\n",
    "        if worker == n - 1:\n",
    "            if cost < min_cost:\n",
    "                min_cost, best_path = cost, path\n",
    "            continue\n",
    "\n",
    "        for job in range(n):\n",
    "            if job not in path:\n",
    "                new_cost = cost + cost_matrix[worker + 1][job]\n",
    "                new_path = path + [job]\n",
    "                new_bound = calculate_bound(cost_matrix, new_path, new_cost, worker + 1)\n",
    "\n",
    "                if new_bound < min_cost:\n",
    "                    heapq.heappush(queue, (new_bound, new_cost, worker + 1, new_path))\n",
    "\n",
    "    return best_path, min_cost\n",
    "\n",
    "\n",
    "n = int(input(\"Enter the number of workers (or jobs): \"))\n",
    "print(f\"Enter the cost matrix ({n}x{n}):\")\n",
    "\n",
    "cost_matrix = []\n",
    "for i in range(n):\n",
    "    row = list(map(int, input(f\"Enter costs for worker {i + 1} separated by spaces: \").split()))\n",
    "    if len(row) != n:\n",
    "        print(f\"Row {i + 1} must contain exactly {n} values.\")\n",
    "        exit()\n",
    "    cost_matrix.append(row)\n",
    "\n",
    "# Solve the assignment problem\n",
    "best_assignment, min_cost = branch_and_bound(cost_matrix)\n",
    "\n",
    "# Display Results\n",
    "print(\"\\nBest job assignment:\", best_assignment)\n",
    "print(\"Minimum cost:\", min_cost)\n"
   ]
  },
  {
   "cell_type": "code",
   "execution_count": null,
   "id": "16be3503",
   "metadata": {},
   "outputs": [],
   "source": []
  }
 ],
 "metadata": {
  "kernelspec": {
   "display_name": "Python 3 (ipykernel)",
   "language": "python",
   "name": "python3"
  },
  "language_info": {
   "codemirror_mode": {
    "name": "ipython",
    "version": 3
   },
   "file_extension": ".py",
   "mimetype": "text/x-python",
   "name": "python",
   "nbconvert_exporter": "python",
   "pygments_lexer": "ipython3",
   "version": "3.11.5"
  }
 },
 "nbformat": 4,
 "nbformat_minor": 5
}
