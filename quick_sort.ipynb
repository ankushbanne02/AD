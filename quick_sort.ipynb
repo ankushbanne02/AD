{
 "cells": [
  {
   "cell_type": "code",
   "execution_count": 1,
   "id": "da0bec1a",
   "metadata": {},
   "outputs": [
    {
     "name": "stdout",
     "output_type": "stream",
     "text": [
      "Original array: [9, 6, 3, 7, 2, 12, 5, 1]\n",
      "Pivot 1 found at index 0 by thread 30696\n",
      "Pivot 9 found at index 6 by thread 17612\n",
      "Pivot 5 found at index 3 by thread 27328\n",
      "Pivot 2 found at index 1 by thread 8740\n",
      "Pivot 7 found at index 5 by thread 29444\n",
      "Sorted array: [1, 2, 3, 5, 6, 7, 9, 12]\n"
     ]
    }
   ],
   "source": [
    "import concurrent.futures\n",
    "import threading\n",
    "\n",
    "def partition(arr, low, high):\n",
    "    pivot = arr[high]\n",
    "    i = low - 1\n",
    "    for j in range(low, high):\n",
    "        if arr[j] < pivot:\n",
    "            i += 1\n",
    "            arr[i], arr[j] = arr[j], arr[i]\n",
    "    arr[i + 1], arr[high] = arr[high], arr[i + 1]\n",
    "    return i + 1\n",
    "\n",
    "def parallel_quicksort(arr, low, high, max_workers=4):\n",
    "    if low < high:\n",
    "        pivot_index = partition(arr, low, high)\n",
    "\n",
    "        # Print pivot and thread info\n",
    "        thread_id = threading.get_ident()\n",
    "        print(f\"Pivot {arr[pivot_index]} found at index {pivot_index} by thread {thread_id}\")\n",
    "        \n",
    "        # Create a ThreadPoolExecutor for parallel tasks\n",
    "        with concurrent.futures.ThreadPoolExecutor(max_workers=max_workers) as executor:\n",
    "            left_sort = executor.submit(parallel_quicksort, arr, low, pivot_index - 1, max_workers)\n",
    "            right_sort = executor.submit(parallel_quicksort, arr, pivot_index + 1, high, max_workers)\n",
    "\n",
    "            # Wait for completion of both tasks\n",
    "            concurrent.futures.wait([left_sort, right_sort])\n",
    "\n",
    "# Execute the quicksort directly\n",
    "arr = [9, 6, 3, 7, 2, 12, 5, 1]\n",
    "print(\"Original array:\", arr)\n",
    "parallel_quicksort(arr, 0, len(arr) - 1)\n",
    "print(\"Sorted array:\", arr)\n"
   ]
  },
  {
   "cell_type": "code",
   "execution_count": null,
   "id": "c27fb6e3",
   "metadata": {},
   "outputs": [],
   "source": []
  }
 ],
 "metadata": {
  "kernelspec": {
   "display_name": "Python 3 (ipykernel)",
   "language": "python",
   "name": "python3"
  },
  "language_info": {
   "codemirror_mode": {
    "name": "ipython",
    "version": 3
   },
   "file_extension": ".py",
   "mimetype": "text/x-python",
   "name": "python",
   "nbconvert_exporter": "python",
   "pygments_lexer": "ipython3",
   "version": "3.11.5"
  }
 },
 "nbformat": 4,
 "nbformat_minor": 5
}
