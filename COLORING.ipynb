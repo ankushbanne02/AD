{
 "cells": [
  {
   "cell_type": "code",
   "execution_count": null,
   "id": "7e28a019",
   "metadata": {},
   "outputs": [
    {
     "name": "stdout",
     "output_type": "stream",
     "text": [
      "Enter the number of vertices in the graph: 4\n",
      "Enter the adjacency matrix (space-separated rows):\n",
      "Row 1: 0 1 1 1\n",
      "Row 2: 1 0 1 0\n",
      "Row 3: 1 1 0 1\n",
      "Row 4: 1 0 1 0\n",
      "Enter the number of colors available: 3\n",
      "Colors assigned to vertices: [1, 2, 3, 2]\n"
     ]
    }
   ],
   "source": [
    "def is_safe(vertex):\n",
    "    for neighbor in range(len(graph)):\n",
    "        if graph[vertex][neighbor] == 1 and color[vertex] == color[neighbor]:\n",
    "            return False\n",
    "    return True\n",
    "\n",
    "\n",
    "def solve(vertex):\n",
    "    if vertex == len(graph):  # Base case: All vertices are assigned a color\n",
    "        return True\n",
    "\n",
    "    for i in range(1, m + 1):  \n",
    "        color[vertex] = i\n",
    "\n",
    "        if is_safe(vertex) and solve(vertex + 1):\n",
    "            return True\n",
    "\n",
    "        color[vertex] = 0  # Backtrack if not safe\n",
    "\n",
    "    return False\n",
    "\n",
    "\n",
    "# Interactive Input\n",
    "n = int(input(\"Enter the number of vertices in the graph: \"))\n",
    "print(\"Enter the adjacency matrix (space-separated rows):\")\n",
    "\n",
    "graph = []\n",
    "for i in range(n):\n",
    "    row = list(map(int, input(f\"Row {i + 1}: \").split()))\n",
    "    if len(row) != n:\n",
    "        print(f\"Error: Each row must have exactly {n} values.\")\n",
    "        exit()\n",
    "    graph.append(row)\n",
    "\n",
    "m = int(input(\"Enter the number of colors available: \"))\n",
    "color = [0] * n\n",
    "\n",
    "\n",
    "# Solve the m-coloring problem\n",
    "if not solve(0):\n",
    "    print(\"Solution does not exist\")\n",
    "else:\n",
    "    print(\"Colors assigned to vertices:\", color)\n",
    "\n",
    "\n",
    "    \n"
   ]
  },
  {
   "cell_type": "code",
   "execution_count": null,
   "id": "69a5641c",
   "metadata": {},
   "outputs": [],
   "source": []
  }
 ],
 "metadata": {
  "kernelspec": {
   "display_name": "Python 3 (ipykernel)",
   "language": "python",
   "name": "python3"
  },
  "language_info": {
   "codemirror_mode": {
    "name": "ipython",
    "version": 3
   },
   "file_extension": ".py",
   "mimetype": "text/x-python",
   "name": "python",
   "nbconvert_exporter": "python",
   "pygments_lexer": "ipython3",
   "version": "3.11.5"
  }
 },
 "nbformat": 4,
 "nbformat_minor": 5
}
