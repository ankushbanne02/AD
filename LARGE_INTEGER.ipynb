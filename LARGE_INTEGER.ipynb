{
 "cells": [
  {
   "cell_type": "code",
   "execution_count": 1,
   "id": "0e5b4398",
   "metadata": {},
   "outputs": [
    {
     "name": "stdout",
     "output_type": "stream",
     "text": [
      "The product of 100 and 100 is 10000\n"
     ]
    }
   ],
   "source": [
    "def karatsuba(x, y):\n",
    "    \n",
    "    if x < 10 or y < 10:\n",
    "        return x * y\n",
    "\n",
    "    size = max(len(str(x)), len(str(y)))\n",
    "    half_size = size // 2\n",
    "\n",
    "    a, b = divmod(x, 10 ** half_size)\n",
    "    c, d = divmod(y, 10 ** half_size)\n",
    "\n",
    "   \n",
    "    ac = karatsuba(a, c)\n",
    "   \n",
    "    \n",
    "    bd = karatsuba(b, d)\n",
    "    \n",
    "    ab_cd = karatsuba(a + b, c + d) - ac - bd\n",
    "  \n",
    "    \n",
    "    \n",
    "    return ac * (10 ** (2 * half_size)) + ab_cd * (10 ** half_size) + bd\n",
    "\n",
    "# Example usage\n",
    "\n",
    "x = 100\n",
    "y = 100\n",
    "result = karatsuba(x, y)\n",
    "print(f\"The product of {x} and {y} is {result}\")"
   ]
  },
  {
   "cell_type": "code",
   "execution_count": null,
   "id": "e30ff17d",
   "metadata": {},
   "outputs": [],
   "source": []
  }
 ],
 "metadata": {
  "kernelspec": {
   "display_name": "Python 3 (ipykernel)",
   "language": "python",
   "name": "python3"
  },
  "language_info": {
   "codemirror_mode": {
    "name": "ipython",
    "version": 3
   },
   "file_extension": ".py",
   "mimetype": "text/x-python",
   "name": "python",
   "nbconvert_exporter": "python",
   "pygments_lexer": "ipython3",
   "version": "3.11.5"
  }
 },
 "nbformat": 4,
 "nbformat_minor": 5
}
