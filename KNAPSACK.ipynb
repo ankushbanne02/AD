{
 "cells": [
  {
   "cell_type": "code",
   "execution_count": 1,
   "id": "3ccc81c1",
   "metadata": {},
   "outputs": [
    {
     "name": "stdout",
     "output_type": "stream",
     "text": [
      "Maximum value: 7\n",
      "Items to include (as tuple of 0/1): [1, 1, 0, 0]\n"
     ]
    }
   ],
   "source": [
    "def knapsack(weights, values, capacity):\n",
    "    n = len(weights)\n",
    "    dp = [[0 for i in range(capacity + 1)] for j in range(n + 1)]\n",
    "    \n",
    "   \n",
    "    for i in range(1, n + 1):\n",
    "        for w in range(1, capacity + 1):\n",
    "            if weights[i - 1] <= w:\n",
    "                dp[i][w] = max(values[i - 1] + dp[i - 1][w - weights[i - 1]], dp[i - 1][w])\n",
    "            else:\n",
    "                dp[i][w] = dp[i - 1][w]\n",
    "    \n",
    "    \n",
    "    selected_items = [0] * n\n",
    "    t = capacity\n",
    "    for i in range(n, 0, -1):\n",
    "        if dp[i][t] != dp[i - 1][t]:\n",
    "            selected_items[i - 1] = 1\n",
    "            t -= weights[i - 1]  \n",
    "    \n",
    "    return dp[n][capacity], selected_items\n",
    "\n",
    "weights = [2, 3, 4, 5]\n",
    "values = [3, 4, 5, 6]\n",
    "capacity = 5\n",
    "\n",
    "max_value, included_items = knapsack(weights, values, capacity)\n",
    "print(\"Maximum value:\", max_value)\n",
    "print(\"Items to include (as tuple of 0/1):\", included_items)\n"
   ]
  },
  {
   "cell_type": "code",
   "execution_count": 2,
   "id": "10b2aa08",
   "metadata": {},
   "outputs": [
    {
     "name": "stdout",
     "output_type": "stream",
     "text": [
      "Maximum value: 7\n",
      "Items to include (as tuple of 0/1): [1, 1, 0, 0]\n"
     ]
    }
   ],
   "source": [
    "def knapsack(weights, values, capacity):\n",
    "    \n",
    "    items = sorted(zip(weights, values), key=lambda x: x[0])\n",
    "    weights, values = zip(*items)  \n",
    "    \n",
    "    n = len(weights)\n",
    "    dp = [[0 for i in range(capacity + 1)] for j in range(n + 1)]\n",
    "    \n",
    "    # Build the dp table\n",
    "    for i in range(1, n + 1):\n",
    "        for w in range(1, capacity + 1):\n",
    "            if weights[i - 1] <= w:\n",
    "                dp[i][w] = max(values[i - 1] + dp[i - 1][w - weights[i - 1]], dp[i - 1][w])\n",
    "            else:\n",
    "                dp[i][w] = dp[i - 1][w]\n",
    "    \n",
    "    # Determine the selected items\n",
    "    selected_items = [0] * n\n",
    "    t = capacity\n",
    "    for i in range(n, 0, -1):\n",
    "        if dp[i][t] != dp[i - 1][t]:\n",
    "            selected_items[i - 1] = 1\n",
    "            t -= weights[i - 1] \n",
    "    \n",
    "    return dp[n][capacity], selected_items\n",
    "\n",
    "weights = [2, 3, 4, 5]\n",
    "values = [3, 4, 5, 6]\n",
    "capacity = 5\n",
    "\n",
    "max_value, included_items = knapsack(weights, values, capacity)\n",
    "print(\"Maximum value:\", max_value)\n",
    "print(\"Items to include (as tuple of 0/1):\", included_items)\n"
   ]
  },
  {
   "cell_type": "code",
   "execution_count": null,
   "id": "cbe60e91",
   "metadata": {},
   "outputs": [],
   "source": []
  }
 ],
 "metadata": {
  "kernelspec": {
   "display_name": "Python 3 (ipykernel)",
   "language": "python",
   "name": "python3"
  },
  "language_info": {
   "codemirror_mode": {
    "name": "ipython",
    "version": 3
   },
   "file_extension": ".py",
   "mimetype": "text/x-python",
   "name": "python",
   "nbconvert_exporter": "python",
   "pygments_lexer": "ipython3",
   "version": "3.11.5"
  }
 },
 "nbformat": 4,
 "nbformat_minor": 5
}
