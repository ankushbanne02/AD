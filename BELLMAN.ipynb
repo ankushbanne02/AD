{
 "cells": [
  {
   "cell_type": "code",
   "execution_count": 4,
   "id": "b55df3da",
   "metadata": {},
   "outputs": [
    {
     "name": "stdout",
     "output_type": "stream",
     "text": [
      "Enter the number of vertices in the graph: 5\n",
      "Enter the number of edges in the graph: 5\n",
      "Enter each edge in the format: u v w (where u and v are vertices and w is the weight):\n",
      "Edge (u v w): 0 1 5\n",
      "Edge (u v w): 1 2 1\n",
      "Edge (u v w): 1 4 2\n",
      "Edge (u v w): 2 3 1\n",
      "Edge (u v w): 3 4 -1\n",
      "Enter the source vertex: 0\n",
      "\n",
      "Running Bellman-Ford Algorithm...\n",
      "\n",
      "Distance from Source Node:\n",
      "Node 0: 0\n",
      "Node 1: 5\n",
      "Node 2: 6\n",
      "Node 3: 7\n",
      "Node 4: 6\n"
     ]
    }
   ],
   "source": [
    "class Graph:\n",
    "    def __init__(self, vertices):\n",
    "        self.V = vertices\n",
    "        self.graph = []\n",
    "\n",
    "    def addEdge(self, u, v, w):\n",
    "        self.graph.append([u, v, w])\n",
    "\n",
    "    def printdist(self, dist):\n",
    "        print(\"Distance from Source Node:\")\n",
    "        for i in range(self.V):\n",
    "            print(f\"Node {i}: {dist[i]}\")\n",
    "\n",
    "    def bellmanford(self, src):\n",
    "       \n",
    "        dist = [float(\"INF\")] * self.V\n",
    "        dist[src] = 0\n",
    "\n",
    "       \n",
    "        for _ in range(self.V - 1):\n",
    "            for u, v, w in self.graph:\n",
    "                if dist[u] != float(\"INF\") and dist[u] + w < dist[v]:\n",
    "                    dist[v] = dist[u] + w\n",
    "\n",
    "      \n",
    "        for u, v, w in self.graph:\n",
    "            if dist[u] != float(\"INF\") and dist[u] + w < dist[v]:\n",
    "                print(\"Graph contains a negative-weight cycle\")\n",
    "                return\n",
    "\n",
    "        # Print distances\n",
    "        self.printdist(dist)\n",
    "\n",
    "\n",
    "\n",
    "vertices = int(input(\"Enter the number of vertices in the graph: \"))\n",
    "g = Graph(vertices)\n",
    "\n",
    "edges = int(input(\"Enter the number of edges in the graph: \"))\n",
    "print(\"Enter each edge in the format: u v w (where u and v are vertices and w is the weight):\")\n",
    "for _ in range(edges):\n",
    "    u, v, w = map(int, input(\"Edge (u v w): \").split())\n",
    "    g.addEdge(u, v, w)\n",
    "\n",
    "source = int(input(\"Enter the source vertex: \"))\n",
    "print(\"\\nRunning Bellman-Ford Algorithm...\\n\")\n",
    "g.bellmanford(source)\n"
   ]
  }
 ],
 "metadata": {
  "kernelspec": {
   "display_name": "Python 3 (ipykernel)",
   "language": "python",
   "name": "python3"
  },
  "language_info": {
   "codemirror_mode": {
    "name": "ipython",
    "version": 3
   },
   "file_extension": ".py",
   "mimetype": "text/x-python",
   "name": "python",
   "nbconvert_exporter": "python",
   "pygments_lexer": "ipython3",
   "version": "3.11.5"
  }
 },
 "nbformat": 4,
 "nbformat_minor": 5
}
